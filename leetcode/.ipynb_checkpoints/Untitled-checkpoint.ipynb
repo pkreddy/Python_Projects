{
 "cells": [
  {
   "cell_type": "markdown",
   "metadata": {},
   "source": [
    "You are given two non-empty linked lists representing two non-negative integers. The digits are stored in reverse order and each of their nodes contain a single digit. Add the two numbers and return it as a linked list.\n",
    "\n",
    "You may assume the two numbers do not contain any leading zero, except the number 0 itself."
   ]
  },
  {
   "cell_type": "markdown",
   "metadata": {},
   "source": [
    "<b>Example</b>\n",
    "\n",
    "<p>Input: (2 -> 4 -> 3) + (5 -> 6 -> 4) </p>\n",
    "<p>Output: 7 -> 0 -> 8</p>\n",
    "<p>Explanation: 342 + 465 = 807.</p>"
   ]
  },
  {
   "cell_type": "code",
   "execution_count": 3,
   "metadata": {
    "collapsed": true
   },
   "outputs": [],
   "source": [
    "# Definition for singly-linked list.\n",
    "# class ListNode(object):\n",
    "#     def __init__(self, x):\n",
    "#         self.val = x\n",
    "#         self.next = None\n",
    "\n",
    "class Solution(object):\n",
    "    def addTwoNumbers(self, l1, l2):\n",
    "        s = 0\n",
    "        v1 = 0\n",
    "        while l1.next != None:\n",
    "            v1 = l1.val * (10**s) + v1\n",
    "            s = s + 1\n",
    "            l1 = l1.next\n",
    "        v1 = l1.val * (10**(s)) + v1\n",
    "        \n",
    "        s = 0\n",
    "        v2 = 0\n",
    "        while l2.next != None:\n",
    "            v2 = l2.val * (10**s) + v2\n",
    "            s = s + 1\n",
    "            l2 = l2.next\n",
    "        v2 = l2.val * (10**(s)) + v2\n",
    "        \n",
    "        num = v1 + v2\n",
    "        lst = [int(i) for i in str(num)[::-1]]\n",
    "        return lst\n",
    "        "
   ]
  }
 ],
 "metadata": {
  "kernelspec": {
   "display_name": "Python 3",
   "language": "python",
   "name": "python3"
  },
  "language_info": {
   "codemirror_mode": {
    "name": "ipython",
    "version": 3
   },
   "file_extension": ".py",
   "mimetype": "text/x-python",
   "name": "python",
   "nbconvert_exporter": "python",
   "pygments_lexer": "ipython3",
   "version": "3.6.3"
  }
 },
 "nbformat": 4,
 "nbformat_minor": 2
}
