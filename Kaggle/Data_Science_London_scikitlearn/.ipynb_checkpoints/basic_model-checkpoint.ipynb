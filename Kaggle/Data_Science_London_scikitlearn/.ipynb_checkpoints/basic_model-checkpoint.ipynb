{
 "cells": [
  {
   "cell_type": "markdown",
   "metadata": {},
   "source": [
    "<h1> Data Science London + Scikit Learn </h1>\n",
    "<a href=\"https://www.kaggle.com/c/data-science-london-scikit-learn#evaluation\">Link to Kaggle</a>"
   ]
  },
  {
   "cell_type": "code",
   "execution_count": 5,
   "metadata": {
    "collapsed": true
   },
   "outputs": [],
   "source": [
    "%matplotlib inline\n",
    "import pandas as pd\n",
    "import sklearn as sk\n",
    "from sklearn.model_selection import train_test_split, GridSearchCV\n",
    "from sklearn.linear_model import LogisticRegression\n",
    "from sklearn.ensemble import RandomForestClassifier\n",
    "import numpy as np\n",
    "from sklearn import svm, decomposition\n",
    "from sklearn.metrics import roc_curve, auc, roc_auc_score\n",
    "from sklearn.neural_network import MLPClassifier\n",
    "from sklearn.neighbors import NearestNeighbors\n",
    "from sklearn.pipeline import Pipeline\n",
    "import matplotlib.pyplot as plt\n",
    "from sklearn.preprocessing import StandardScaler\n",
    "from sklearn.grid_search import GridSearchCV\n",
    "from sklearn.mixture import GaussianMixture\n"
   ]
  },
  {
   "cell_type": "code",
   "execution_count": 6,
   "metadata": {},
   "outputs": [
    {
     "name": "stdout",
     "output_type": "stream",
     "text": [
      "   0\n",
      "0  1\n",
      "1  0\n",
      "2  0\n",
      "3  1\n",
      "4  0\n",
      "(1000, 40)\n",
      "(1000, 1)\n",
      "(9000, 40)\n"
     ]
    },
    {
     "data": {
      "text/html": [
       "<div>\n",
       "<table border=\"1\" class=\"dataframe\">\n",
       "  <thead>\n",
       "    <tr style=\"text-align: right;\">\n",
       "      <th></th>\n",
       "      <th>0</th>\n",
       "      <th>1</th>\n",
       "      <th>2</th>\n",
       "      <th>3</th>\n",
       "      <th>4</th>\n",
       "      <th>5</th>\n",
       "      <th>6</th>\n",
       "      <th>7</th>\n",
       "      <th>8</th>\n",
       "      <th>9</th>\n",
       "      <th>...</th>\n",
       "      <th>30</th>\n",
       "      <th>31</th>\n",
       "      <th>32</th>\n",
       "      <th>33</th>\n",
       "      <th>34</th>\n",
       "      <th>35</th>\n",
       "      <th>36</th>\n",
       "      <th>37</th>\n",
       "      <th>38</th>\n",
       "      <th>39</th>\n",
       "    </tr>\n",
       "  </thead>\n",
       "  <tbody>\n",
       "    <tr>\n",
       "      <th>0</th>\n",
       "      <td>0.299403</td>\n",
       "      <td>-1.226624</td>\n",
       "      <td>1.498425</td>\n",
       "      <td>-1.176150</td>\n",
       "      <td>5.289853</td>\n",
       "      <td>0.208297</td>\n",
       "      <td>2.404498</td>\n",
       "      <td>1.594506</td>\n",
       "      <td>-0.051608</td>\n",
       "      <td>0.663234</td>\n",
       "      <td>...</td>\n",
       "      <td>-0.850465</td>\n",
       "      <td>-0.622990</td>\n",
       "      <td>-1.833057</td>\n",
       "      <td>0.293024</td>\n",
       "      <td>3.552681</td>\n",
       "      <td>0.717611</td>\n",
       "      <td>3.305972</td>\n",
       "      <td>-2.715559</td>\n",
       "      <td>-2.682409</td>\n",
       "      <td>0.101050</td>\n",
       "    </tr>\n",
       "    <tr>\n",
       "      <th>1</th>\n",
       "      <td>-1.174176</td>\n",
       "      <td>0.332157</td>\n",
       "      <td>0.949919</td>\n",
       "      <td>-1.285328</td>\n",
       "      <td>2.199061</td>\n",
       "      <td>-0.151268</td>\n",
       "      <td>-0.427039</td>\n",
       "      <td>2.619246</td>\n",
       "      <td>-0.765884</td>\n",
       "      <td>-0.093780</td>\n",
       "      <td>...</td>\n",
       "      <td>-0.819750</td>\n",
       "      <td>0.012037</td>\n",
       "      <td>2.038836</td>\n",
       "      <td>0.468579</td>\n",
       "      <td>-0.517657</td>\n",
       "      <td>0.422326</td>\n",
       "      <td>0.803699</td>\n",
       "      <td>1.213219</td>\n",
       "      <td>1.382932</td>\n",
       "      <td>-1.817761</td>\n",
       "    </tr>\n",
       "    <tr>\n",
       "      <th>2</th>\n",
       "      <td>1.192222</td>\n",
       "      <td>-0.414371</td>\n",
       "      <td>0.067054</td>\n",
       "      <td>-2.233568</td>\n",
       "      <td>3.658881</td>\n",
       "      <td>0.089007</td>\n",
       "      <td>0.203439</td>\n",
       "      <td>-4.219054</td>\n",
       "      <td>-1.184919</td>\n",
       "      <td>-1.240310</td>\n",
       "      <td>...</td>\n",
       "      <td>-0.604501</td>\n",
       "      <td>0.750054</td>\n",
       "      <td>-3.360521</td>\n",
       "      <td>0.856988</td>\n",
       "      <td>-2.751451</td>\n",
       "      <td>-1.582735</td>\n",
       "      <td>1.672246</td>\n",
       "      <td>0.656438</td>\n",
       "      <td>-0.932473</td>\n",
       "      <td>2.987436</td>\n",
       "    </tr>\n",
       "    <tr>\n",
       "      <th>3</th>\n",
       "      <td>1.573270</td>\n",
       "      <td>-0.580318</td>\n",
       "      <td>-0.866332</td>\n",
       "      <td>-0.603812</td>\n",
       "      <td>3.125716</td>\n",
       "      <td>0.870321</td>\n",
       "      <td>-0.161992</td>\n",
       "      <td>4.499666</td>\n",
       "      <td>1.038741</td>\n",
       "      <td>-1.092716</td>\n",
       "      <td>...</td>\n",
       "      <td>1.022959</td>\n",
       "      <td>1.275598</td>\n",
       "      <td>-3.480110</td>\n",
       "      <td>-1.065252</td>\n",
       "      <td>2.153133</td>\n",
       "      <td>1.563539</td>\n",
       "      <td>2.767117</td>\n",
       "      <td>0.215748</td>\n",
       "      <td>0.619645</td>\n",
       "      <td>1.883397</td>\n",
       "    </tr>\n",
       "    <tr>\n",
       "      <th>4</th>\n",
       "      <td>-0.613071</td>\n",
       "      <td>-0.644204</td>\n",
       "      <td>1.112558</td>\n",
       "      <td>-0.032397</td>\n",
       "      <td>3.490142</td>\n",
       "      <td>-0.011935</td>\n",
       "      <td>1.443521</td>\n",
       "      <td>-4.290282</td>\n",
       "      <td>-1.761308</td>\n",
       "      <td>0.807652</td>\n",
       "      <td>...</td>\n",
       "      <td>0.513906</td>\n",
       "      <td>-1.803473</td>\n",
       "      <td>0.518579</td>\n",
       "      <td>-0.205029</td>\n",
       "      <td>-4.744566</td>\n",
       "      <td>-1.520015</td>\n",
       "      <td>1.830651</td>\n",
       "      <td>0.870772</td>\n",
       "      <td>-1.894609</td>\n",
       "      <td>0.408332</td>\n",
       "    </tr>\n",
       "  </tbody>\n",
       "</table>\n",
       "<p>5 rows × 40 columns</p>\n",
       "</div>"
      ],
      "text/plain": [
       "         0         1         2         3         4         5         6   \\\n",
       "0  0.299403 -1.226624  1.498425 -1.176150  5.289853  0.208297  2.404498   \n",
       "1 -1.174176  0.332157  0.949919 -1.285328  2.199061 -0.151268 -0.427039   \n",
       "2  1.192222 -0.414371  0.067054 -2.233568  3.658881  0.089007  0.203439   \n",
       "3  1.573270 -0.580318 -0.866332 -0.603812  3.125716  0.870321 -0.161992   \n",
       "4 -0.613071 -0.644204  1.112558 -0.032397  3.490142 -0.011935  1.443521   \n",
       "\n",
       "         7         8         9     ...           30        31        32  \\\n",
       "0  1.594506 -0.051608  0.663234    ...    -0.850465 -0.622990 -1.833057   \n",
       "1  2.619246 -0.765884 -0.093780    ...    -0.819750  0.012037  2.038836   \n",
       "2 -4.219054 -1.184919 -1.240310    ...    -0.604501  0.750054 -3.360521   \n",
       "3  4.499666  1.038741 -1.092716    ...     1.022959  1.275598 -3.480110   \n",
       "4 -4.290282 -1.761308  0.807652    ...     0.513906 -1.803473  0.518579   \n",
       "\n",
       "         33        34        35        36        37        38        39  \n",
       "0  0.293024  3.552681  0.717611  3.305972 -2.715559 -2.682409  0.101050  \n",
       "1  0.468579 -0.517657  0.422326  0.803699  1.213219  1.382932 -1.817761  \n",
       "2  0.856988 -2.751451 -1.582735  1.672246  0.656438 -0.932473  2.987436  \n",
       "3 -1.065252  2.153133  1.563539  2.767117  0.215748  0.619645  1.883397  \n",
       "4 -0.205029 -4.744566 -1.520015  1.830651  0.870772 -1.894609  0.408332  \n",
       "\n",
       "[5 rows x 40 columns]"
      ]
     },
     "execution_count": 6,
     "metadata": {},
     "output_type": "execute_result"
    }
   ],
   "source": [
    "train_ = pd.read_csv('train.csv', header=None)\n",
    "train_Labels = pd.read_csv('trainLabels.csv',header=None)\n",
    "test_ = pd.read_csv('test.csv',header=None)\n",
    "print(train_Labels.head())\n",
    "print(train_.shape)\n",
    "print(train_Labels.shape)\n",
    "print(test_.shape)\n",
    "train_.head()"
   ]
  },
  {
   "cell_type": "code",
   "execution_count": 7,
   "metadata": {
    "scrolled": true
   },
   "outputs": [
    {
     "name": "stdout",
     "output_type": "stream",
     "text": [
      "0     0\n",
      "1     0\n",
      "2     0\n",
      "3     0\n",
      "4     0\n",
      "5     0\n",
      "6     0\n",
      "7     0\n",
      "8     0\n",
      "9     0\n",
      "10    0\n",
      "11    0\n",
      "12    0\n",
      "13    0\n",
      "14    0\n",
      "15    0\n",
      "16    0\n",
      "17    0\n",
      "18    0\n",
      "19    0\n",
      "20    0\n",
      "21    0\n",
      "22    0\n",
      "23    0\n",
      "24    0\n",
      "25    0\n",
      "26    0\n",
      "27    0\n",
      "28    0\n",
      "29    0\n",
      "30    0\n",
      "31    0\n",
      "32    0\n",
      "33    0\n",
      "34    0\n",
      "35    0\n",
      "36    0\n",
      "37    0\n",
      "38    0\n",
      "39    0\n",
      "dtype: int64\n"
     ]
    }
   ],
   "source": [
    "##Check for NUllS and NA's\n",
    "print(train_.isnull().sum())\n",
    "##No NA's or Null's found"
   ]
  },
  {
   "cell_type": "code",
   "execution_count": 8,
   "metadata": {},
   "outputs": [
    {
     "name": "stdout",
     "output_type": "stream",
     "text": [
      "-3.36571093432 3.32624600299\n",
      "-3.4920855905 3.58387044437\n",
      "-2.6956019378 2.54650651811\n",
      "-3.46047142885 3.08873790652\n",
      "-16.4219014729 17.5653445056\n",
      "-3.04125013446 3.1029973145\n",
      "-7.22476063352 7.59266637635\n",
      "-6.50908424365 7.13009742798\n",
      "-3.14558775479 3.14525823097\n",
      "-2.74981173318 3.91942575835\n",
      "-3.30407446646 3.40965345268\n",
      "-3.15743592438 3.2530315912\n",
      "-14.706079671 12.1864453018\n",
      "-3.00215114203 3.73742255222\n",
      "-6.79063341566 6.9597363076\n",
      "-2.91472873334 3.10093511375\n",
      "-3.46404823636 2.80519651219\n",
      "-2.94409302456 3.29154363328\n",
      "-8.25830607839 7.07443237516\n",
      "-3.42387474476 3.34381217245\n",
      "-4.25138170346 2.93803282838\n",
      "-2.82264380976 3.05326150927\n",
      "-6.33752191463 8.09683753734\n",
      "-16.1560695916 14.3736805385\n",
      "-3.21844620505 2.98158225787\n",
      "-2.82079213492 3.66280039097\n",
      "-3.0238111279 3.29391075039\n",
      "-3.05438364886 3.06988491528\n",
      "-8.03442059051 7.41317302923\n",
      "-7.10572260334 8.81273901057\n",
      "-3.37919368173 2.84479177315\n",
      "-2.97112453671 3.68804724994\n",
      "-7.84088969197 7.16037906407\n",
      "-2.99956407858 3.35363053065\n",
      "-7.12410534513 6.00581753553\n",
      "-2.95235836971 3.42056102932\n",
      "-5.45225403867 6.60349909006\n",
      "-3.47391329208 3.49254758154\n",
      "-8.05172239306 5.77411991631\n",
      "-7.79908610772 6.8039843377\n"
     ]
    }
   ],
   "source": [
    "for i in range(40):\n",
    "    print(np.min(train_[:][i]),np.max(train_[:][i]))"
   ]
  },
  {
   "cell_type": "code",
   "execution_count": 9,
   "metadata": {},
   "outputs": [
    {
     "data": {
      "image/png": "[encoded data removed]",
      "text/plain": [
       "<matplotlib.figure.Figure at 0x106e1e52fd0>"
      ]
     },
     "metadata": {},
     "output_type": "display_data"
    }
   ],
   "source": [
    "#Plotting histograms of entire dataset\n",
    "fig,axes = plt.subplots(5, 8, sharey=True)\n",
    "p = 0\n",
    "for i in range(5):\n",
    "    for j in range(8):\n",
    "        axes[i,j].hist(np.ravel(train_[:][p]))\n",
    "        p = p + 1\n",
    "plt.show()"
   ]
  },
  {
   "cell_type": "code",
   "execution_count": 10,
   "metadata": {
    "collapsed": true
   },
   "outputs": [],
   "source": [
    "#Splitting to train and test\n",
    "x_train, x_test, y_train, y_test = train_test_split(train_,train_Labels)"
   ]
  },
  {
   "cell_type": "code",
   "execution_count": 11,
   "metadata": {
    "collapsed": true
   },
   "outputs": [],
   "source": [
    "def plot(fpr,tpr,roc_auc):\n",
    "    plt.figure()\n",
    "    ##Adding the ROC\n",
    "    plt.plot(fpr, tpr, color='red',\n",
    "     lw=2, label='ROC curve (area = %0.2f)' % roc_auc)\n",
    "    ##Random FPR and TPR\n",
    "    plt.plot([0, 1], [0, 1], color='blue', lw=2, linestyle='--')\n",
    "    ##Title and label\n",
    "    plt.xlabel('FPR')\n",
    "    plt.ylabel('TPR')\n",
    "    plt.title('ROC curve')\n",
    "    plt.legend(loc=\"lower right\")\n",
    "    plt.show()"
   ]
  },
  {
   "cell_type": "markdown",
   "metadata": {},
   "source": [
    "# Logistic Regression"
   ]
  },
  {
   "cell_type": "code",
   "execution_count": 11,
   "metadata": {},
   "outputs": [
    {
     "name": "stdout",
     "output_type": "stream",
     "text": [
      "Prediction accuracy of training set 81.2 \b%\n"
     ]
    }
   ],
   "source": [
    "### Building Logistic Regression\n",
    "### Traning and testing using training data\n",
    "logisticRegr = LogisticRegression(penalty='l1',C=0.67)\n",
    "logit = logisticRegr.fit(x_train, np.ravel(y_train))\n",
    "score = logit.score(x_test,y_test)\n",
    "print(\"Prediction accuracy of training set\",score*100,\"\\b%\")\n",
    "test = logit.predict(test_)"
   ]
  },
  {
   "cell_type": "code",
   "execution_count": 12,
   "metadata": {},
   "outputs": [
    {
     "data": {
      "text/plain": [
       "LogisticRegression(C=0.67, class_weight=None, dual=False, fit_intercept=True,\n",
       "          intercept_scaling=1, max_iter=100, multi_class='ovr', n_jobs=1,\n",
       "          penalty='l1', random_state=None, solver='liblinear', tol=0.0001,\n",
       "          verbose=0, warm_start=False)"
      ]
     },
     "execution_count": 12,
     "metadata": {},
     "output_type": "execute_result"
    }
   ],
   "source": [
    "logit"
   ]
  },
  {
   "cell_type": "code",
   "execution_count": 18,
   "metadata": {},
   "outputs": [
    {
     "data": {
      "image/png": "[encoded data removed]",
      "text/plain": [
       "<matplotlib.figure.Figure at 0x1f1d31ee1d0>"
      ]
     },
     "metadata": {},
     "output_type": "display_data"
    }
   ],
   "source": [
    "##Computing false and true positive rates\n",
    "fpr, tpr,_=roc_curve(logit.predict(x_test),np.ravel(y_test))\n",
    "roc_auc = roc_auc_score(logit.predict(x_test),np.ravel(y_test))\n",
    "plot(fpr,tpr,roc_auc)"
   ]
  },
  {
   "cell_type": "code",
   "execution_count": 35,
   "metadata": {},
   "outputs": [
    {
     "name": "stdout",
     "output_type": "stream",
     "text": [
      "accuracy is 83.7 \b%\n"
     ]
    },
    {
     "data": {
      "image/png": "[encoded data removed]",
      "text/plain": [
       "<matplotlib.figure.Figure at 0x1f1d443c4a8>"
      ]
     },
     "metadata": {},
     "output_type": "display_data"
    }
   ],
   "source": [
    "logit = logisticRegr.fit(train_, np.ravel(train_Labels))\n",
    "check = logit.predict(train_)\n",
    "fpr, tpr,_=roc_curve(logit.predict(train_),np.ravel(train_Labels),drop_intermediate=False)\n",
    "print(\"accuracy is\",logit.score(train_,np.ravel(train_Labels))*100,\"\\b%\")\n",
    "#print(\"accuracy is \",sum(check==np.ravel(train_Labels))*100/len(check))\n",
    "test_lr = logit.predict(test_)\n",
    "test = test_lr\n",
    "roc_auc = roc_auc_score(logit.predict(train_),np.ravel(train_Labels))\n",
    "#print(roc_auc)\n",
    "#print(auc(fpr,tpr))\n",
    "\n",
    "plot(fpr,tpr,roc_auc)\n",
    "#plt.figure()\n",
    "#plt.plot([0,1],[0,1])\n",
    "#plt.show()"
   ]
  },
  {
   "cell_type": "code",
   "execution_count": 30,
   "metadata": {
    "collapsed": true
   },
   "outputs": [],
   "source": []
  },
  {
   "cell_type": "markdown",
   "metadata": {},
   "source": [
    "# SVM"
   ]
  },
  {
   "cell_type": "code",
   "execution_count": 37,
   "metadata": {},
   "outputs": [
    {
     "data": {
      "image/png": "[encoded data removed]",
      "text/plain": [
       "<matplotlib.figure.Figure at 0x1f1d3234ba8>"
      ]
     },
     "metadata": {},
     "output_type": "display_data"
    }
   ],
   "source": [
    "#training the training and testing on training data set\n",
    "model = svm.SVC()\n",
    "model.fit(x_train,np.ravel(y_train))\n",
    "#print(model.score(x_test,y_test))\n",
    "test = model.predict(test_)\n",
    "sum(test)\n",
    "##Computing false and true positive rates\n",
    "fpr, tpr,_=roc_curve(model.predict(x_test),np.ravel(y_test))\n",
    "roc_auc = roc_auc_score(model.predict(x_test),np.ravel(y_test))\n",
    "plot(fpr,tpr,roc_auc)\n",
    "#Accuracy 91%"
   ]
  },
  {
   "cell_type": "code",
   "execution_count": 38,
   "metadata": {},
   "outputs": [
    {
     "name": "stdout",
     "output_type": "stream",
     "text": [
      "accuracy is  99.8\n"
     ]
    },
    {
     "data": {
      "image/png": "[encoded data removed]",
      "text/plain": [
       "<matplotlib.figure.Figure at 0x1f1d44e4198>"
      ]
     },
     "metadata": {},
     "output_type": "display_data"
    }
   ],
   "source": [
    "#training the training entire training dataset\n",
    "model.fit(train_,np.ravel(train_Labels))\n",
    "check = model.predict(train_)\n",
    "print(\"accuracy is \",sum(check==np.ravel(train_Labels))*100/len(check))\n",
    "test = model.predict(test_)\n",
    "test_svm = test\n",
    "#Accuracy 91%\n",
    "#sum(test)\n",
    "fpr, tpr,_=roc_curve(model.predict(train_),np.ravel(train_Labels))\n",
    "roc_auc = roc_auc_score(model.predict(train_),np.ravel(train_Labels))\n",
    "plot(fpr,tpr,roc_auc)"
   ]
  },
  {
   "cell_type": "markdown",
   "metadata": {},
   "source": [
    "# Random Forest"
   ]
  },
  {
   "cell_type": "code",
   "execution_count": 39,
   "metadata": {},
   "outputs": [
    {
     "name": "stdout",
     "output_type": "stream",
     "text": [
      "[ 0.01188197  0.0068781   0.01288828  0.008544    0.03850877  0.01464179\n",
      "  0.06153123  0.02662532  0.00940096  0.01064097  0.00750561  0.01027943\n",
      "  0.07396361  0.0170383   0.12281298  0.01814201  0.01097716  0.00937628\n",
      "  0.04487559  0.01182286  0.01539826  0.01171379  0.02170389  0.0339552\n",
      "  0.01519833  0.01431236  0.01096456  0.01068374  0.04598078  0.03943412\n",
      "  0.01027537  0.00913037  0.04463232  0.0111964   0.03880691  0.01035449\n",
      "  0.04871904  0.00986747  0.01461198  0.05472541]\n",
      "0.86\n"
     ]
    },
    {
     "data": {
      "image/png": "[encoded data removed]",
      "text/plain": [
       "<matplotlib.figure.Figure at 0x1f1d47432b0>"
      ]
     },
     "metadata": {},
     "output_type": "display_data"
    }
   ],
   "source": [
    "model_RF = RandomForestClassifier(n_estimators=17)\n",
    "model_RF.fit(x_train,np.ravel(y_train))\n",
    "print(model_RF.feature_importances_)\n",
    "test = model.predict(test_)\n",
    "print(model_RF.score(x_test,y_test))\n",
    "#sum(test)\n",
    "fpr, tpr,_=roc_curve(model.predict(x_test),np.ravel(y_test))\n",
    "roc_auc = roc_auc_score(model.predict(x_test),np.ravel(y_test))\n",
    "plot(fpr,tpr,roc_auc)"
   ]
  },
  {
   "cell_type": "code",
   "execution_count": 40,
   "metadata": {},
   "outputs": [
    {
     "name": "stdout",
     "output_type": "stream",
     "text": [
      "accuracy is  99.8\n"
     ]
    },
    {
     "data": {
      "image/png": "[encoded data removed]",
      "text/plain": [
       "<matplotlib.figure.Figure at 0x1f1d46f0940>"
      ]
     },
     "metadata": {},
     "output_type": "display_data"
    }
   ],
   "source": [
    "model_RF.fit(train_,np.ravel(train_Labels))\n",
    "check = model.predict(train_)\n",
    "print(\"accuracy is \",sum(check==np.ravel(train_Labels))*100/len(check))\n",
    "test = model.predict(test_)\n",
    "test_rf = test\n",
    "fpr, tpr,_=roc_curve(model.predict(train_),np.ravel(train_Labels))\n",
    "roc_auc = roc_auc_score(model.predict(train_),np.ravel(train_Labels))\n",
    "plot(fpr,tpr,roc_auc)"
   ]
  },
  {
   "cell_type": "markdown",
   "metadata": {},
   "source": [
    "# Randomized Random Forest"
   ]
  },
  {
   "cell_type": "code",
   "execution_count": 326,
   "metadata": {},
   "outputs": [
    {
     "name": "stdout",
     "output_type": "stream",
     "text": [
      "1 0.724\n",
      "2 0.728\n",
      "3 0.78\n",
      "4 0.788\n",
      "5 0.82\n",
      "6 0.824\n",
      "7 0.86\n",
      "8 0.876\n",
      "9 0.824\n",
      "10 0.86\n",
      "11 0.848\n",
      "12 0.868\n",
      "13 0.86\n",
      "14 0.9\n",
      "15 0.884\n",
      "16 0.876\n",
      "17 0.876\n",
      "18 0.892\n",
      "19 0.88\n"
     ]
    }
   ],
   "source": [
    "for i in range(19):\n",
    "    model_RF = RandomForestClassifier(n_estimators=i+1)\n",
    "    model_RF.fit(x_train,np.ravel(y_train))\n",
    "    #print(model_RF.feature_importances_)\n",
    "    test = model.predict(test_)\n",
    "    print(i+1,model_RF.score(x_test,y_test))\n",
    "    #sum(test)\n",
    "    #print(i)"
   ]
  },
  {
   "cell_type": "markdown",
   "metadata": {},
   "source": [
    "# Neural Nets"
   ]
  },
  {
   "cell_type": "code",
   "execution_count": 327,
   "metadata": {},
   "outputs": [
    {
     "name": "stdout",
     "output_type": "stream",
     "text": [
      "accuracy is  91.2\n"
     ]
    }
   ],
   "source": [
    "model_nn = MLPClassifier(solver='lbfgs', alpha=1e-5,hidden_layer_sizes=(12,2), random_state=1)\n",
    "model_nn.fit(x_train,np.ravel(y_train))\n",
    "check = model_nn.predict(x_test)\n",
    "#test = model_nn.predict(test_)\n",
    "print(\"accuracy is \",sum(check==np.ravel(y_test))*100/len(check))"
   ]
  },
  {
   "cell_type": "code",
   "execution_count": 328,
   "metadata": {},
   "outputs": [
    {
     "name": "stdout",
     "output_type": "stream",
     "text": [
      "accuracy is  97.3\n"
     ]
    }
   ],
   "source": [
    "model_nn.fit(train_,np.ravel(train_Labels))\n",
    "check = model_nn.predict(train_)\n",
    "#test = model_nn.predict(test_)\n",
    "#print(train_[1:5])\n",
    "print(\"accuracy is \",sum(check==np.ravel(train_Labels))*100/len(check))\n",
    "test = model_nn.predict(test_)\n",
    "test_nn = test"
   ]
  },
  {
   "cell_type": "markdown",
   "metadata": {},
   "source": [
    "# PCA"
   ]
  },
  {
   "cell_type": "code",
   "execution_count": 251,
   "metadata": {},
   "outputs": [
    {
     "name": "stdout",
     "output_type": "stream",
     "text": [
      "0.980862907001\n"
     ]
    },
    {
     "data": {
      "text/html": [
       "<div>\n",
       "<table border=\"1\" class=\"dataframe\">\n",
       "  <thead>\n",
       "    <tr style=\"text-align: right;\">\n",
       "      <th></th>\n",
       "      <th>0</th>\n",
       "      <th>1</th>\n",
       "      <th>2</th>\n",
       "      <th>3</th>\n",
       "      <th>4</th>\n",
       "      <th>5</th>\n",
       "      <th>6</th>\n",
       "      <th>7</th>\n",
       "      <th>8</th>\n",
       "      <th>9</th>\n",
       "      <th>...</th>\n",
       "      <th>25</th>\n",
       "      <th>26</th>\n",
       "      <th>27</th>\n",
       "      <th>28</th>\n",
       "      <th>29</th>\n",
       "      <th>30</th>\n",
       "      <th>31</th>\n",
       "      <th>32</th>\n",
       "      <th>33</th>\n",
       "      <th>34</th>\n",
       "    </tr>\n",
       "  </thead>\n",
       "  <tbody>\n",
       "    <tr>\n",
       "      <th>0</th>\n",
       "      <td>-2.076352</td>\n",
       "      <td>3.029369</td>\n",
       "      <td>0.360578</td>\n",
       "      <td>-1.628585</td>\n",
       "      <td>-1.212840</td>\n",
       "      <td>2.160572</td>\n",
       "      <td>-0.884661</td>\n",
       "      <td>-0.230236</td>\n",
       "      <td>-0.764172</td>\n",
       "      <td>-1.820645</td>\n",
       "      <td>...</td>\n",
       "      <td>0.999883</td>\n",
       "      <td>0.654418</td>\n",
       "      <td>0.683006</td>\n",
       "      <td>-0.854058</td>\n",
       "      <td>0.295478</td>\n",
       "      <td>1.317596</td>\n",
       "      <td>-0.665012</td>\n",
       "      <td>-0.227013</td>\n",
       "      <td>0.835616</td>\n",
       "      <td>0.502493</td>\n",
       "    </tr>\n",
       "    <tr>\n",
       "      <th>1</th>\n",
       "      <td>1.431806</td>\n",
       "      <td>1.885572</td>\n",
       "      <td>0.492722</td>\n",
       "      <td>-0.616745</td>\n",
       "      <td>0.399596</td>\n",
       "      <td>0.691913</td>\n",
       "      <td>-0.139768</td>\n",
       "      <td>-0.978900</td>\n",
       "      <td>-1.908072</td>\n",
       "      <td>-0.233466</td>\n",
       "      <td>...</td>\n",
       "      <td>0.190796</td>\n",
       "      <td>1.597572</td>\n",
       "      <td>-0.547529</td>\n",
       "      <td>0.448212</td>\n",
       "      <td>-1.041492</td>\n",
       "      <td>-0.818109</td>\n",
       "      <td>-0.382931</td>\n",
       "      <td>2.092635</td>\n",
       "      <td>-0.387507</td>\n",
       "      <td>-0.815698</td>\n",
       "    </tr>\n",
       "    <tr>\n",
       "      <th>2</th>\n",
       "      <td>1.848852</td>\n",
       "      <td>-1.109818</td>\n",
       "      <td>-3.670023</td>\n",
       "      <td>-1.529740</td>\n",
       "      <td>0.670829</td>\n",
       "      <td>-0.916097</td>\n",
       "      <td>0.096431</td>\n",
       "      <td>-1.211271</td>\n",
       "      <td>-0.155356</td>\n",
       "      <td>0.162866</td>\n",
       "      <td>...</td>\n",
       "      <td>-0.922450</td>\n",
       "      <td>0.168725</td>\n",
       "      <td>0.680471</td>\n",
       "      <td>1.162826</td>\n",
       "      <td>-0.575886</td>\n",
       "      <td>0.197021</td>\n",
       "      <td>0.246470</td>\n",
       "      <td>0.550923</td>\n",
       "      <td>-0.075657</td>\n",
       "      <td>-0.611736</td>\n",
       "    </tr>\n",
       "    <tr>\n",
       "      <th>3</th>\n",
       "      <td>-1.526697</td>\n",
       "      <td>-0.200130</td>\n",
       "      <td>1.670015</td>\n",
       "      <td>-0.217175</td>\n",
       "      <td>1.320426</td>\n",
       "      <td>-3.724263</td>\n",
       "      <td>1.047987</td>\n",
       "      <td>-0.084067</td>\n",
       "      <td>-0.213780</td>\n",
       "      <td>0.302999</td>\n",
       "      <td>...</td>\n",
       "      <td>-0.955993</td>\n",
       "      <td>1.147834</td>\n",
       "      <td>0.110321</td>\n",
       "      <td>0.986280</td>\n",
       "      <td>0.429835</td>\n",
       "      <td>1.121872</td>\n",
       "      <td>-0.527394</td>\n",
       "      <td>0.329288</td>\n",
       "      <td>0.263753</td>\n",
       "      <td>-0.331701</td>\n",
       "    </tr>\n",
       "    <tr>\n",
       "      <th>4</th>\n",
       "      <td>-1.678938</td>\n",
       "      <td>1.008899</td>\n",
       "      <td>-1.527184</td>\n",
       "      <td>-0.504949</td>\n",
       "      <td>-0.482407</td>\n",
       "      <td>1.097843</td>\n",
       "      <td>-0.242906</td>\n",
       "      <td>-2.655839</td>\n",
       "      <td>1.089892</td>\n",
       "      <td>0.135146</td>\n",
       "      <td>...</td>\n",
       "      <td>-0.327107</td>\n",
       "      <td>-0.063799</td>\n",
       "      <td>-0.982568</td>\n",
       "      <td>1.570278</td>\n",
       "      <td>-1.117261</td>\n",
       "      <td>-0.334732</td>\n",
       "      <td>-0.159874</td>\n",
       "      <td>0.250556</td>\n",
       "      <td>0.145432</td>\n",
       "      <td>-0.993336</td>\n",
       "    </tr>\n",
       "  </tbody>\n",
       "</table>\n",
       "<p>5 rows × 35 columns</p>\n",
       "</div>"
      ],
      "text/plain": [
       "         0         1         2         3         4         5         6   \\\n",
       "0 -2.076352  3.029369  0.360578 -1.628585 -1.212840  2.160572 -0.884661   \n",
       "1  1.431806  1.885572  0.492722 -0.616745  0.399596  0.691913 -0.139768   \n",
       "2  1.848852 -1.109818 -3.670023 -1.529740  0.670829 -0.916097  0.096431   \n",
       "3 -1.526697 -0.200130  1.670015 -0.217175  1.320426 -3.724263  1.047987   \n",
       "4 -1.678938  1.008899 -1.527184 -0.504949 -0.482407  1.097843 -0.242906   \n",
       "\n",
       "         7         8         9     ...           25        26        27  \\\n",
       "0 -0.230236 -0.764172 -1.820645    ...     0.999883  0.654418  0.683006   \n",
       "1 -0.978900 -1.908072 -0.233466    ...     0.190796  1.597572 -0.547529   \n",
       "2 -1.211271 -0.155356  0.162866    ...    -0.922450  0.168725  0.680471   \n",
       "3 -0.084067 -0.213780  0.302999    ...    -0.955993  1.147834  0.110321   \n",
       "4 -2.655839  1.089892  0.135146    ...    -0.327107 -0.063799 -0.982568   \n",
       "\n",
       "         28        29        30        31        32        33        34  \n",
       "0 -0.854058  0.295478  1.317596 -0.665012 -0.227013  0.835616  0.502493  \n",
       "1  0.448212 -1.041492 -0.818109 -0.382931  2.092635 -0.387507 -0.815698  \n",
       "2  1.162826 -0.575886  0.197021  0.246470  0.550923 -0.075657 -0.611736  \n",
       "3  0.986280  0.429835  1.121872 -0.527394  0.329288  0.263753 -0.331701  \n",
       "4  1.570278 -1.117261 -0.334732 -0.159874  0.250556  0.145432 -0.993336  \n",
       "\n",
       "[5 rows x 35 columns]"
      ]
     },
     "execution_count": 251,
     "metadata": {},
     "output_type": "execute_result"
    }
   ],
   "source": [
    "#Standardization\n",
    "x_train_std = StandardScaler().fit_transform(x_train)\n",
    "#taking first 36 components which account to 99% variability\n",
    "pca = decomposition.PCA(n_components=35)\n",
    "pcomps = pca.fit_transform(x_train_std)\n",
    "#print(pca.explained_variance_)\n",
    "print(pca.explained_variance_ratio_.sum())\n",
    "#comps = pd.DataFrame(pca.components_)\n",
    "comps = pd.DataFrame(pcomps)\n",
    "comps.head()"
   ]
  },
  {
   "cell_type": "code",
   "execution_count": 638,
   "metadata": {},
   "outputs": [
    {
     "name": "stdout",
     "output_type": "stream",
     "text": [
      "Prediction accuracy of training set 69.6\n"
     ]
    }
   ],
   "source": [
    "#training logistic model\n",
    "logisticRegr = LogisticRegression(penalty='l1',C=0.67)\n",
    "logit = logisticRegr.fit(comps, np.ravel(y_train))\n",
    "\n",
    "x_test_std = StandardScaler().fit_transform(x_test)\n",
    "#taking first 36 components which account to 99% variability\n",
    "pca = decomposition.PCA(n_components=35)\n",
    "pcomps = pd.DataFrame(pca.fit_transform(x_test_std))\n",
    "#print(pca.explained_variance_)\n",
    "score = logit.score(pcomps,y_test)\n",
    "print(\"Prediction accuracy of training set\",score*100)\n",
    "#test = logit.predict(test_)"
   ]
  },
  {
   "cell_type": "code",
   "execution_count": 639,
   "metadata": {},
   "outputs": [
    {
     "name": "stdout",
     "output_type": "stream",
     "text": [
      "accuracy of test set after trainin 86.0\n",
      "accuracy is  83.8\n"
     ]
    }
   ],
   "source": [
    "#Standardization\n",
    "#training and testing\n",
    "x_train_std = StandardScaler().fit_transform(x_train)\n",
    "logisticRegr = LogisticRegression(penalty='l1',C=0.67)\n",
    "logit = logisticRegr.fit(x_train_std, np.ravel(y_train))\n",
    "x_test_std = StandardScaler().fit_transform(x_test)\n",
    "print(\"accuracy of test set after trainin\",logit.score(x_test_std,y_test)*100)\n",
    "\n",
    "#training entire dataset\n",
    "train_std = StandardScaler().fit_transform(train_)\n",
    "logit = logisticRegr.fit(train_std, np.ravel(train_Labels))\n",
    "check = logit.predict(train_std)\n",
    "print(\"accuracy is \",sum(check==np.ravel(train_Labels))*100/len(check))\n",
    "\n",
    "test = logit.predict(StandardScaler().fit_transform(test_))"
   ]
  },
  {
   "cell_type": "markdown",
   "metadata": {},
   "source": [
    "# Standardizing dataset"
   ]
  },
  {
   "cell_type": "code",
   "execution_count": 640,
   "metadata": {
    "collapsed": true
   },
   "outputs": [],
   "source": [
    "#Standardizing datasets\n",
    "x_test_std = StandardScaler().fit_transform(x_test)\n",
    "x_train_std = StandardScaler().fit_transform(x_train)\n",
    "train_std = StandardScaler().fit_transform(train_) \n",
    "test_std = StandardScaler().fit_transform(test_)"
   ]
  },
  {
   "cell_type": "markdown",
   "metadata": {},
   "source": [
    "# SVM"
   ]
  },
  {
   "cell_type": "code",
   "execution_count": 641,
   "metadata": {},
   "outputs": [
    {
     "name": "stdout",
     "output_type": "stream",
     "text": [
      "90.0\n"
     ]
    }
   ],
   "source": [
    "#training the training and testing on training data set\n",
    "model = svm.SVC()\n",
    "model.fit(x_train_std,np.ravel(y_train))\n",
    "print(model.score(x_test_std,y_test)*100)\n",
    "#test = model.predict(x_test_std)\n",
    "#sum(x_test_std)\n",
    "#Accuracy 91%"
   ]
  },
  {
   "cell_type": "code",
   "execution_count": 642,
   "metadata": {},
   "outputs": [
    {
     "name": "stdout",
     "output_type": "stream",
     "text": [
      "accuracy is  95.6\n"
     ]
    }
   ],
   "source": [
    "#training the training entire training dataset\n",
    "model.fit(train_std,np.ravel(train_Labels))\n",
    "check = model.predict(train_std)\n",
    "print(\"accuracy is \",sum(check==np.ravel(train_Labels))*100/len(check))\n",
    "test = model.predict(test_std)\n",
    "#Accuracy 91%"
   ]
  },
  {
   "cell_type": "markdown",
   "metadata": {},
   "source": [
    "# Random Forest"
   ]
  },
  {
   "cell_type": "code",
   "execution_count": 644,
   "metadata": {},
   "outputs": [
    {
     "name": "stdout",
     "output_type": "stream",
     "text": [
      "84.0\n"
     ]
    }
   ],
   "source": [
    "model_RF = RandomForestClassifier(n_estimators=8)\n",
    "model_RF.fit(x_train_std,np.ravel(y_train))\n",
    "#print(model_RF.feature_importances_)\n",
    "test = model.predict(x_test_std)\n",
    "print(model_RF.score(x_test_std,y_test)*100)\n",
    "#sum(test)"
   ]
  },
  {
   "cell_type": "code",
   "execution_count": 645,
   "metadata": {},
   "outputs": [
    {
     "name": "stdout",
     "output_type": "stream",
     "text": [
      "accuracy is  95.6\n"
     ]
    }
   ],
   "source": [
    "model_RF.fit(train_std,np.ravel(train_Labels))\n",
    "check = model.predict(train_std)\n",
    "print(\"accuracy is \",sum(check==np.ravel(train_Labels))*100/len(check))\n",
    "test = model.predict(test_std)"
   ]
  },
  {
   "cell_type": "code",
   "execution_count": 308,
   "metadata": {
    "collapsed": true
   },
   "outputs": [],
   "source": [
    "# Standardization has reduced the accuracy"
   ]
  },
  {
   "cell_type": "code",
   "execution_count": 373,
   "metadata": {
    "collapsed": true
   },
   "outputs": [],
   "source": [
    "test = (test_lr + test_nn + test_svm + test_rf)/4\n",
    "for i in range(len(test)):\n",
    "    if test[i] >= 0.75:\n",
    "        test[i] = 1\n",
    "    else:\n",
    "        test[i] = 0\n",
    "#Best accuracy is less than SVM"
   ]
  },
  {
   "cell_type": "code",
   "execution_count": 374,
   "metadata": {
    "collapsed": true
   },
   "outputs": [],
   "source": [
    "# Lets try grid search and random search on random forest"
   ]
  },
  {
   "cell_type": "code",
   "execution_count": 411,
   "metadata": {},
   "outputs": [
    {
     "name": "stdout",
     "output_type": "stream",
     "text": [
      "best estimator RandomForest: RandomForestClassifier(bootstrap=False, class_weight=None,\n",
      "            criterion='entropy', max_depth=None, max_features=5,\n",
      "            max_leaf_nodes=None, min_impurity_split=1e-07,\n",
      "            min_samples_leaf=3, min_samples_split=8,\n",
      "            min_weight_fraction_leaf=0.0, n_estimators=10, n_jobs=1,\n",
      "            oob_score=False, random_state=None, verbose=0,\n",
      "            warm_start=False) Best Score 1.0\n"
     ]
    }
   ],
   "source": [
    "from sklearn.cross_validation import cross_val_score\n",
    "param_dist = {\"max_depth\": [3, None],\n",
    "              \"max_features\": sp_randint(1, 11),\n",
    "              \"min_samples_split\": sp_randint(2, 11),\n",
    "              \"min_samples_leaf\": sp_randint(1, 11),\n",
    "              \"bootstrap\": [True, False],\n",
    "              \"criterion\": [\"gini\", \"entropy\"]}\n",
    "rf = RandomForestClassifier()\n",
    "grid_search_rf = RandomizedSearchCV(rf, param_distributions=param_dist,n_iter=20).fit(x_train,np.ravel(y_train))\n",
    "#grid_search_rf = GridSearchCV(rf, param_grid=param_dist, verbose=3,scoring='accuracy',cv=20).fit(x_train,np.ravel(y_train))\n",
    "\n",
    "print ('best estimator RandomForest:',grid_search_rf.best_estimator_,'Best Score', grid_search_rf.best_estimator_.score(np.asarray(x_train),np.ravel(y_train)))\n",
    "\n"
   ]
  },
  {
   "cell_type": "code",
   "execution_count": 412,
   "metadata": {},
   "outputs": [
    {
     "name": "stdout",
     "output_type": "stream",
     "text": [
      "1.0\n"
     ]
    }
   ],
   "source": [
    "rf_best = grid_search_rf.best_estimator_\n",
    "rf_best.fit(x_train,np.ravel(y_train))\n",
    "\n",
    "print(rf_best.score(x_train,y_train))"
   ]
  },
  {
   "cell_type": "code",
   "execution_count": 413,
   "metadata": {},
   "outputs": [
    {
     "name": "stdout",
     "output_type": "stream",
     "text": [
      "Score for Random Forest : 0.906666666667\n"
     ]
    }
   ],
   "source": [
    "print ('Score for Random Forest :',cross_val_score(rf_best,x_train,np.ravel(y_train),cv=10,scoring='accuracy').max())"
   ]
  },
  {
   "cell_type": "code",
   "execution_count": 414,
   "metadata": {},
   "outputs": [
    {
     "name": "stdout",
     "output_type": "stream",
     "text": [
      "0.884\n",
      "Score for Random Forest : 0.96\n"
     ]
    }
   ],
   "source": [
    "print(rf_best.score(x_test,y_test))\n",
    "print ('Score for Random Forest :',cross_val_score(rf_best,x_test,np.ravel(y_test),cv=10,scoring='accuracy').max())"
   ]
  },
  {
   "cell_type": "code",
   "execution_count": 415,
   "metadata": {},
   "outputs": [
    {
     "name": "stdout",
     "output_type": "stream",
     "text": [
      "Score for Random Forest : 0.88\n"
     ]
    }
   ],
   "source": [
    "print ('Score for Random Forest :',cross_val_score(rf_best,train_,np.ravel(train_Labels),cv=10,scoring='accuracy').max())"
   ]
  },
  {
   "cell_type": "code",
   "execution_count": 416,
   "metadata": {},
   "outputs": [
    {
     "name": "stdout",
     "output_type": "stream",
     "text": [
      "1.0\n"
     ]
    }
   ],
   "source": [
    "rf_best.fit(train_,np.ravel(train_Labels))\n",
    "print(rf_best.score(train_,np.ravel(train_Labels)))\n",
    "test = rf_best.predict(test_)"
   ]
  },
  {
   "cell_type": "code",
   "execution_count": 418,
   "metadata": {
    "collapsed": true
   },
   "outputs": [],
   "source": [
    "# accuracy grid search is less than the original random forest algorithm"
   ]
  },
  {
   "cell_type": "markdown",
   "metadata": {},
   "source": [
    "# KNN"
   ]
  },
  {
   "cell_type": "code",
   "execution_count": 422,
   "metadata": {},
   "outputs": [
    {
     "name": "stdout",
     "output_type": "stream",
     "text": [
      "2 0.952\n",
      "3 0.954666666667\n",
      "4 0.946666666667\n",
      "5 0.941333333333\n",
      "6 0.929333333333\n",
      "7 0.936\n",
      "8 0.945333333333\n",
      "9 0.917333333333\n",
      "10 0.92\n",
      "11 0.913333333333\n",
      "12 0.912\n",
      "13 0.898666666667\n",
      "14 0.905333333333\n",
      "15 0.893333333333\n",
      "16 0.890666666667\n",
      "17 0.892\n",
      "18 0.889333333333\n",
      "19 0.886666666667\n"
     ]
    }
   ],
   "source": [
    "from sklearn.neighbors import KNeighborsClassifier\n",
    "for i in range(2,20):\n",
    "    model_knn = KNeighborsClassifier(n_neighbors=i)\n",
    "    model_knn.fit(x_train,np.ravel(y_train))\n",
    "    print(i,model_knn.score(x_train,np.ravel(y_train)))"
   ]
  },
  {
   "cell_type": "code",
   "execution_count": 423,
   "metadata": {},
   "outputs": [
    {
     "name": "stdout",
     "output_type": "stream",
     "text": [
      "2 0.896\n",
      "3 0.916\n",
      "4 0.896\n",
      "5 0.916\n",
      "6 0.916\n",
      "7 0.912\n",
      "8 0.932\n",
      "9 0.924\n",
      "10 0.928\n",
      "11 0.92\n",
      "12 0.932\n",
      "13 0.932\n",
      "14 0.94\n",
      "15 0.94\n",
      "16 0.932\n",
      "17 0.932\n",
      "18 0.924\n",
      "19 0.908\n"
     ]
    }
   ],
   "source": [
    "for i in range(2,20):\n",
    "    model_knn = KNeighborsClassifier(n_neighbors=i)\n",
    "    model_knn.fit(x_train,np.ravel(y_train))\n",
    "    print(i,model_knn.score(x_test,np.ravel(y_test)))"
   ]
  },
  {
   "cell_type": "code",
   "execution_count": 424,
   "metadata": {},
   "outputs": [
    {
     "name": "stdout",
     "output_type": "stream",
     "text": [
      "2 0.956\n",
      "3 0.957\n",
      "4 0.964\n",
      "5 0.945\n",
      "6 0.938\n",
      "7 0.934\n",
      "8 0.936\n",
      "9 0.929\n",
      "10 0.929\n",
      "11 0.927\n",
      "12 0.929\n",
      "13 0.921\n",
      "14 0.925\n",
      "15 0.915\n",
      "16 0.916\n",
      "17 0.913\n",
      "18 0.911\n",
      "19 0.905\n"
     ]
    }
   ],
   "source": [
    "for i in range(2,20):\n",
    "    model_knn = KNeighborsClassifier(n_neighbors=i)\n",
    "    model_knn.fit(train_,np.ravel(train_Labels))\n",
    "    print(i,model_knn.score(train_,np.ravel(train_Labels)))"
   ]
  },
  {
   "cell_type": "code",
   "execution_count": 440,
   "metadata": {
    "collapsed": true
   },
   "outputs": [],
   "source": [
    "model_knn = KNeighborsClassifier(n_neighbors=6)\n",
    "model_knn.fit(train_,np.ravel(train_Labels))\n",
    "test_knn = model_knn.predict(test_)\n",
    "test = test_knn"
   ]
  },
  {
   "cell_type": "code",
   "execution_count": 450,
   "metadata": {
    "collapsed": true
   },
   "outputs": [],
   "source": [
    "#since best k value for knn is k = 6 let's try ensemble with 5 algorithms\n",
    "test = (test_lr + test_nn + test_svm + test_rf + test_knn)/5\n",
    "test[1:20]\n",
    "for i in range(len(test)):\n",
    "    if test[i] >= 0.8:\n",
    "        test[i] = 1\n",
    "    else:\n",
    "        test[i] = 0"
   ]
  },
  {
   "cell_type": "code",
   "execution_count": 565,
   "metadata": {},
   "outputs": [
    {
     "name": "stdout",
     "output_type": "stream",
     "text": [
      "accuracy on train set 1.0\n",
      "accuracy on test set 0.912\n"
     ]
    }
   ],
   "source": [
    "# Lets try gradient boosting\n",
    "from sklearn.ensemble import GradientBoostingClassifier\n",
    "model_gb = GradientBoostingClassifier(n_estimators=200)\n",
    "model_gb.fit(x_train,np.ravel(y_train))\n",
    "print(\"accuracy on train set\",model_gb.score(x_train,np.ravel(y_train)))\n",
    "print(\"accuracy on test set\",model_gb.score(x_test,np.ravel(y_test)))"
   ]
  },
  {
   "cell_type": "code",
   "execution_count": 566,
   "metadata": {},
   "outputs": [
    {
     "name": "stdout",
     "output_type": "stream",
     "text": [
      "accuracy is  91.2\n"
     ]
    }
   ],
   "source": [
    "check = model_gb.predict_proba(x_test)\n",
    "for i in range(len(check)):\n",
    "    if check[i][1]>=0.50:\n",
    "        check[i]=1\n",
    "    else:\n",
    "        check[i]=0\n",
    "check = np.array(check).astype(int)\n",
    "print(\"accuracy is \",sum(np.ravel(y_test)==np.ravel(check[:,1]))*100/len(x_test))"
   ]
  },
  {
   "cell_type": "code",
   "execution_count": 567,
   "metadata": {},
   "outputs": [
    {
     "name": "stdout",
     "output_type": "stream",
     "text": [
      "accuracy on train set 1.0\n",
      "accuracy on test set 1.0\n"
     ]
    }
   ],
   "source": [
    "model_gb.fit(train_,np.ravel(train_Labels))\n",
    "print(\"accuracy on train set\",model_gb.score(x_train,np.ravel(y_train)))\n",
    "print(\"accuracy on test set\",model_gb.score(x_test,np.ravel(y_test)))\n",
    "test = model.predict(test_)"
   ]
  },
  {
   "cell_type": "code",
   "execution_count": 5,
   "metadata": {},
   "outputs": [
    {
     "ename": "NameError",
     "evalue": "name 'x_test' is not defined",
     "output_type": "error",
     "traceback": [
      "\u001b[0;31m---------------------------------------------------------------------------\u001b[0m",
      "\u001b[0;31mNameError\u001b[0m                                 Traceback (most recent call last)",
      "\u001b[0;32m<ipython-input-5-7c525041f243>\u001b[0m in \u001b[0;36m<module>\u001b[0;34m()\u001b[0m\n\u001b[1;32m      1\u001b[0m \u001b[1;31m#Standardizing datasets\u001b[0m\u001b[1;33m\u001b[0m\u001b[1;33m\u001b[0m\u001b[0m\n\u001b[0;32m----> 2\u001b[0;31m \u001b[0mx_test_std\u001b[0m \u001b[1;33m=\u001b[0m \u001b[0mStandardScaler\u001b[0m\u001b[1;33m(\u001b[0m\u001b[1;33m)\u001b[0m\u001b[1;33m.\u001b[0m\u001b[0mfit_transform\u001b[0m\u001b[1;33m(\u001b[0m\u001b[0mx_test\u001b[0m\u001b[1;33m)\u001b[0m\u001b[1;33m\u001b[0m\u001b[0m\n\u001b[0m\u001b[1;32m      3\u001b[0m \u001b[0mx_train_std\u001b[0m \u001b[1;33m=\u001b[0m \u001b[0mStandardScaler\u001b[0m\u001b[1;33m(\u001b[0m\u001b[1;33m)\u001b[0m\u001b[1;33m.\u001b[0m\u001b[0mfit_transform\u001b[0m\u001b[1;33m(\u001b[0m\u001b[0mx_train\u001b[0m\u001b[1;33m)\u001b[0m\u001b[1;33m\u001b[0m\u001b[0m\n\u001b[1;32m      4\u001b[0m \u001b[0mtrain_std\u001b[0m \u001b[1;33m=\u001b[0m \u001b[0mStandardScaler\u001b[0m\u001b[1;33m(\u001b[0m\u001b[1;33m)\u001b[0m\u001b[1;33m.\u001b[0m\u001b[0mfit_transform\u001b[0m\u001b[1;33m(\u001b[0m\u001b[0mtrain_\u001b[0m\u001b[1;33m)\u001b[0m\u001b[1;33m\u001b[0m\u001b[0m\n\u001b[1;32m      5\u001b[0m \u001b[0mtest_std\u001b[0m \u001b[1;33m=\u001b[0m \u001b[0mStandardScaler\u001b[0m\u001b[1;33m(\u001b[0m\u001b[1;33m)\u001b[0m\u001b[1;33m.\u001b[0m\u001b[0mfit_transform\u001b[0m\u001b[1;33m(\u001b[0m\u001b[0mtest_\u001b[0m\u001b[1;33m)\u001b[0m\u001b[1;33m\u001b[0m\u001b[0m\n",
      "\u001b[0;31mNameError\u001b[0m: name 'x_test' is not defined"
     ]
    }
   ],
   "source": [
    "#Standardizing datasets\n",
    "x_test_std = StandardScaler().fit_transform(x_test)\n",
    "x_train_std = StandardScaler().fit_transform(x_train)\n",
    "train_std = StandardScaler().fit_transform(train_) \n",
    "test_std = StandardScaler().fit_transform(test_)"
   ]
  },
  {
   "cell_type": "code",
   "execution_count": 24,
   "metadata": {
    "collapsed": true
   },
   "outputs": [],
   "source": [
    "x_all = np.r_[x_train,x_test]\n",
    "from sklearn.mixture import GaussianMixture\n",
    "lowest_bic = np.infty\n",
    "bic = []\n",
    "n_components_range = range(1, 7)\n",
    "cv_types = ['spherical', 'tied', 'diag', 'full']\n",
    "for cv_type in cv_types:\n",
    "    for n_components in n_components_range:\n",
    "        # Fit a mixture of Gaussians with EM\n",
    "        gmm = GaussianMixture(n_components=n_components,covariance_type=cv_type)\n",
    "        gmm.fit(x_all)\n",
    "        bic.append(gmm.aic(x_all))\n",
    "        if bic[-1] < lowest_bic:\n",
    "            lowest_bic = bic[-1]\n",
    "            best_gmm = gmm"
   ]
  },
  {
   "cell_type": "code",
   "execution_count": 26,
   "metadata": {
    "collapsed": true
   },
   "outputs": [],
   "source": [
    "best_gmm.fit(x_all)\n",
    "x_train = best_gmm.predict_proba(x_train)\n",
    "x_test = best_gmm.predict_proba(x_test)"
   ]
  },
  {
   "cell_type": "code",
   "execution_count": 28,
   "metadata": {},
   "outputs": [
    {
     "data": {
      "text/plain": [
       "array([  1.26640839e-064,   3.81100404e-274,   6.92198366e-188,\n",
       "         1.00000000e+000])"
      ]
     },
     "execution_count": 28,
     "metadata": {},
     "output_type": "execute_result"
    }
   ],
   "source": []
  },
  {
   "cell_type": "code",
   "execution_count": 568,
   "metadata": {
    "collapsed": true
   },
   "outputs": [],
   "source": [
    "test = np.array(test).astype(int)\n",
    "test_output = pd.DataFrame(test)\n",
    "test_output.index = np.arange(1,len(test_output)+1)\n",
    "test_output.index.name = 'Id'\n",
    "test_output.to_csv('submission.csv',header=list([\"Solution\"]))"
   ]
  },
  {
   "cell_type": "code",
   "execution_count": 569,
   "metadata": {},
   "outputs": [
    {
     "name": "stdout",
     "output_type": "stream",
     "text": [
      "accuracy is  97.6444444444\n"
     ]
    }
   ],
   "source": [
    "print(\"accuracy is \",sum(test_svm==np.ravel(test))*100/len(test))"
   ]
  },
  {
   "cell_type": "markdown",
   "metadata": {},
   "source": [
    "<h1> Using the code from following github <h1> <a href=\"https://github.com/siddharthagarwal/Kaggle-Data-Science-London-Scikit-Learn/blob/master/london.py\">link</a>"
   ]
  },
  {
   "cell_type": "code",
   "execution_count": 12,
   "metadata": {},
   "outputs": [
    {
     "name": "stdout",
     "output_type": "stream",
     "text": [
      "x_all shape : (1000, 40)\n"
     ]
    }
   ],
   "source": [
    "\n",
    "#Checking the models\n",
    "\n",
    "x_all = np.r_[x_train,x_test]\n",
    "\n",
    "print('x_all shape :',x_all.shape)"
   ]
  },
  {
   "cell_type": "code",
   "execution_count": 17,
   "metadata": {},
   "outputs": [
    {
     "name": "stderr",
     "output_type": "stream",
     "text": [
      "C:\\Users\\prana\\Anaconda3\\lib\\site-packages\\sklearn\\mixture\\base.py:237: ConvergenceWarning: Initialization 1 did not converged. Try different init parameters, or increase max_iter, tol or check for degenerate data.\n",
      "  % (init + 1), ConvergenceWarning)\n"
     ]
    }
   ],
   "source": [
    "from sklearn.mixture import GaussianMixture\n",
    "\n",
    "lowest_bic = np.infty\n",
    "\n",
    "bic = []\n",
    "\n",
    "n_components_range = range(1, 7)\n",
    "\n",
    "cv_types = ['spherical', 'tied', 'diag', 'full']\n",
    "\n",
    "for cv_type in cv_types:\n",
    "\n",
    "\tfor n_components in n_components_range:\n",
    "\n",
    "        # Fit a mixture of Gaussians with EM\n",
    "\n",
    "\t\tgmm = GaussianMixture(n_components=n_components,covariance_type=cv_type)\n",
    "\n",
    "\t\tgmm.fit(x_all)\n",
    "\t\tbic.append(gmm.aic(x_all))\n",
    "\t\tif bic[-1] < lowest_bic:\n",
    "\t\t\tlowest_bic = bic[-1]\n",
    "\t\t\tbest_gmm = gmm\n",
    "best_gmm.fit(x_all)\n",
    "\n",
    "x_train = best_gmm.predict_proba(x_train)\n",
    "x_test = best_gmm.predict_proba(x_test)\n"
   ]
  },
  {
   "cell_type": "code",
   "execution_count": 37,
   "metadata": {},
   "outputs": [
    {
     "name": "stdout",
     "output_type": "stream",
     "text": [
      "75.6\n"
     ]
    }
   ],
   "source": [
    "model_RF = RandomForestClassifier()\n",
    "model_RF.fit(np.r_[x_train,x_test],np.ravel(train_Labels))\n",
    "#print(model_RF.feature_importances_)\n",
    "test = model_RF.predict(x_test)\n",
    "print(model_RF.score(x_test,y_test)*100)\n",
    "#sum(test)"
   ]
  },
  {
   "cell_type": "code",
   "execution_count": 39,
   "metadata": {
    "collapsed": true
   },
   "outputs": [],
   "source": []
  }
 ],
 "metadata": {
  "kernelspec": {
   "display_name": "Python 3",
   "language": "python",
   "name": "python3"
  },
  "language_info": {
   "codemirror_mode": {
    "name": "ipython",
    "version": 3
   },
   "file_extension": ".py",
   "mimetype": "text/x-python",
   "name": "python",
   "nbconvert_exporter": "python",
   "pygments_lexer": "ipython3",
   "version": "3.6.3"
  }
 },
 "nbformat": 4,
 "nbformat_minor": 2
}
