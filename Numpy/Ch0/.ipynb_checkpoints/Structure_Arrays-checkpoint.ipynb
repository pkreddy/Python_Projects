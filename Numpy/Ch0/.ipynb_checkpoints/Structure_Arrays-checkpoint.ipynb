{
 "cells": [
  {
   "cell_type": "markdown",
   "metadata": {},
   "source": [
    "# Structured Arrays"
   ]
  },
  {
   "cell_type": "code",
   "execution_count": 8,
   "metadata": {
    "collapsed": true
   },
   "outputs": [],
   "source": [
    "import numpy as np"
   ]
  },
  {
   "cell_type": "code",
   "execution_count": 11,
   "metadata": {},
   "outputs": [
    {
     "data": {
      "text/plain": [
       "[('name', 'S6'), ('weight', 'f8'), ('height', 'f8'), ('age', 'i8')]"
      ]
     },
     "execution_count": 11,
     "metadata": {},
     "output_type": "execute_result"
    }
   ],
   "source": [
    "person_data_def = [('name','S6'),('weight','f8'),('height','f8'),('age','i8')]\n",
    "person_data_def"
   ]
  },
  {
   "cell_type": "code",
   "execution_count": 13,
   "metadata": {},
   "outputs": [
    {
     "data": {
      "text/plain": [
       "array([(b'', 0.0, 0.0, 0), (b'', 0.0, 0.0, 0), (b'', 0.0, 0.0, 0),\n",
       "       (b'', 0.0, 0.0, 0)], \n",
       "      dtype=[('name', 'S6'), ('weight', '<f8'), ('height', '<f8'), ('age', '<i8')])"
      ]
     },
     "execution_count": 13,
     "metadata": {},
     "output_type": "execute_result"
    }
   ],
   "source": [
    "people_array = np.zeros((4), dtype=person_data_def)\n",
    "people_array"
   ]
  },
  {
   "cell_type": "code",
   "execution_count": 15,
   "metadata": {
    "collapsed": true
   },
   "outputs": [],
   "source": [
    "people_array[3] = ('Delta',73,205,34)"
   ]
  },
  {
   "cell_type": "code",
   "execution_count": 16,
   "metadata": {
    "collapsed": true
   },
   "outputs": [],
   "source": [
    "people_array[0] = ('Alpha',65,112,23)"
   ]
  },
  {
   "cell_type": "code",
   "execution_count": 17,
   "metadata": {},
   "outputs": [
    {
     "data": {
      "text/plain": [
       "array([(b'Alpha', 65.0, 112.0, 23), (b'', 0.0, 0.0, 0), (b'', 0.0, 0.0, 0),\n",
       "       (b'Delta', 73.0, 205.0, 34)], \n",
       "      dtype=[('name', 'S6'), ('weight', '<f8'), ('height', '<f8'), ('age', '<i8')])"
      ]
     },
     "execution_count": 17,
     "metadata": {},
     "output_type": "execute_result"
    }
   ],
   "source": [
    "people_array"
   ]
  },
  {
   "cell_type": "code",
   "execution_count": 18,
   "metadata": {},
   "outputs": [
    {
     "data": {
      "text/plain": [
       "array([(b'Alpha', 65.0, 112.0, 23), (b'', 0.0, 0.0, 0), (b'', 0.0, 0.0, 0),\n",
       "       (b'Delta', 73.0, 205.0, 34)], \n",
       "      dtype=[('name', 'S6'), ('weight', '<f8'), ('height', '<f8'), ('age', '<i8')])"
      ]
     },
     "execution_count": 18,
     "metadata": {},
     "output_type": "execute_result"
    }
   ],
   "source": [
    "people_array[0:]"
   ]
  },
  {
   "cell_type": "code",
   "execution_count": 19,
   "metadata": {
    "collapsed": true
   },
   "outputs": [],
   "source": [
    "ages = people_array['age']"
   ]
  },
  {
   "cell_type": "code",
   "execution_count": 20,
   "metadata": {},
   "outputs": [
    {
     "data": {
      "text/plain": [
       "array([23,  0,  0, 34], dtype=int64)"
      ]
     },
     "execution_count": 20,
     "metadata": {},
     "output_type": "execute_result"
    }
   ],
   "source": [
    "ages"
   ]
  },
  {
   "cell_type": "code",
   "execution_count": 21,
   "metadata": {
    "collapsed": true
   },
   "outputs": [],
   "source": [
    "makeyouthful = ages / 2"
   ]
  },
  {
   "cell_type": "code",
   "execution_count": 22,
   "metadata": {},
   "outputs": [
    {
     "data": {
      "text/plain": [
       "array([ 11.5,   0. ,   0. ,  17. ])"
      ]
     },
     "execution_count": 22,
     "metadata": {},
     "output_type": "execute_result"
    }
   ],
   "source": [
    "makeyouthful"
   ]
  },
  {
   "cell_type": "markdown",
   "metadata": {},
   "source": [
    "# Multidimension Array"
   ]
  },
  {
   "cell_type": "code",
   "execution_count": 24,
   "metadata": {},
   "outputs": [
    {
     "data": {
      "text/plain": [
       "array([[[(b'', 0.0, 0.0, 0), (b'', 0.0, 0.0, 0)],\n",
       "        [(b'', 0.0, 0.0, 0), (b'', 0.0, 0.0, 0)],\n",
       "        [(b'', 0.0, 0.0, 0), (b'', 0.0, 0.0, 0)]],\n",
       "\n",
       "       [[(b'', 0.0, 0.0, 0), (b'', 0.0, 0.0, 0)],\n",
       "        [(b'', 0.0, 0.0, 0), (b'', 0.0, 0.0, 0)],\n",
       "        [(b'', 0.0, 0.0, 0), (b'', 0.0, 0.0, 0)]],\n",
       "\n",
       "       [[(b'', 0.0, 0.0, 0), (b'', 0.0, 0.0, 0)],\n",
       "        [(b'', 0.0, 0.0, 0), (b'', 0.0, 0.0, 0)],\n",
       "        [(b'', 0.0, 0.0, 0), (b'', 0.0, 0.0, 0)]],\n",
       "\n",
       "       [[(b'', 0.0, 0.0, 0), (b'', 0.0, 0.0, 0)],\n",
       "        [(b'', 0.0, 0.0, 0), (b'', 0.0, 0.0, 0)],\n",
       "        [(b'', 0.0, 0.0, 0), (b'', 0.0, 0.0, 0)]]], \n",
       "      dtype=[('name', 'S6'), ('weight', '<f8'), ('height', '<f8'), ('age', '<i8')])"
      ]
     },
     "execution_count": 24,
     "metadata": {},
     "output_type": "execute_result"
    }
   ],
   "source": [
    "people_big_array = np.zeros((4,3,2),dtype=person_data_def)\n",
    "people_big_array"
   ]
  },
  {
   "cell_type": "code",
   "execution_count": 27,
   "metadata": {
    "collapsed": true
   },
   "outputs": [],
   "source": [
    "people_big_array[3,2,1] = ('Echo',68,155,46)"
   ]
  },
  {
   "cell_type": "code",
   "execution_count": 28,
   "metadata": {},
   "outputs": [
    {
     "data": {
      "text/plain": [
       "array([[[(b'', 0.0, 0.0, 0), (b'', 0.0, 0.0, 0)],\n",
       "        [(b'', 0.0, 0.0, 0), (b'', 0.0, 0.0, 0)],\n",
       "        [(b'', 0.0, 0.0, 0), (b'', 0.0, 0.0, 0)]],\n",
       "\n",
       "       [[(b'', 0.0, 0.0, 0), (b'', 0.0, 0.0, 0)],\n",
       "        [(b'', 0.0, 0.0, 0), (b'', 0.0, 0.0, 0)],\n",
       "        [(b'', 0.0, 0.0, 0), (b'', 0.0, 0.0, 0)]],\n",
       "\n",
       "       [[(b'', 0.0, 0.0, 0), (b'', 0.0, 0.0, 0)],\n",
       "        [(b'', 0.0, 0.0, 0), (b'', 0.0, 0.0, 0)],\n",
       "        [(b'', 0.0, 0.0, 0), (b'', 0.0, 0.0, 0)]],\n",
       "\n",
       "       [[(b'', 0.0, 0.0, 0), (b'', 0.0, 0.0, 0)],\n",
       "        [(b'', 0.0, 0.0, 0), (b'', 0.0, 0.0, 0)],\n",
       "        [(b'', 0.0, 0.0, 0), (b'Echo', 68.0, 155.0, 46)]]], \n",
       "      dtype=[('name', 'S6'), ('weight', '<f8'), ('height', '<f8'), ('age', '<i8')])"
      ]
     },
     "execution_count": 28,
     "metadata": {},
     "output_type": "execute_result"
    }
   ],
   "source": [
    "people_big_array"
   ]
  },
  {
   "cell_type": "code",
   "execution_count": 30,
   "metadata": {},
   "outputs": [
    {
     "data": {
      "text/plain": [
       "array([[[   0.,    0.],\n",
       "        [   0.,    0.],\n",
       "        [   0.,    0.]],\n",
       "\n",
       "       [[   0.,    0.],\n",
       "        [   0.,    0.],\n",
       "        [   0.,    0.]],\n",
       "\n",
       "       [[   0.,    0.],\n",
       "        [   0.,    0.],\n",
       "        [   0.,    0.]],\n",
       "\n",
       "       [[   0.,    0.],\n",
       "        [   0.,    0.],\n",
       "        [   0.,  155.]]])"
      ]
     },
     "execution_count": 30,
     "metadata": {},
     "output_type": "execute_result"
    }
   ],
   "source": [
    "people_big_array['height']"
   ]
  },
  {
   "cell_type": "code",
   "execution_count": 31,
   "metadata": {},
   "outputs": [
    {
     "data": {
      "text/plain": [
       "array([[[(0.0, 0.0), (0.0, 0.0)],\n",
       "        [(0.0, 0.0), (0.0, 0.0)],\n",
       "        [(0.0, 0.0), (0.0, 0.0)]],\n",
       "\n",
       "       [[(0.0, 0.0), (0.0, 0.0)],\n",
       "        [(0.0, 0.0), (0.0, 0.0)],\n",
       "        [(0.0, 0.0), (0.0, 0.0)]],\n",
       "\n",
       "       [[(0.0, 0.0), (0.0, 0.0)],\n",
       "        [(0.0, 0.0), (0.0, 0.0)],\n",
       "        [(0.0, 0.0), (0.0, 0.0)]],\n",
       "\n",
       "       [[(0.0, 0.0), (0.0, 0.0)],\n",
       "        [(0.0, 0.0), (0.0, 0.0)],\n",
       "        [(0.0, 0.0), (155.0, 68.0)]]], \n",
       "      dtype=[('height', '<f8'), ('weight', '<f8')])"
      ]
     },
     "execution_count": 31,
     "metadata": {},
     "output_type": "execute_result"
    }
   ],
   "source": [
    "people_big_array[['height','weight']]"
   ]
  },
  {
   "cell_type": "markdown",
   "metadata": {},
   "source": [
    "# Creating record Array"
   ]
  },
  {
   "cell_type": "code",
   "execution_count": 33,
   "metadata": {},
   "outputs": [
    {
     "data": {
      "text/plain": [
       "rec.array([(b'Delta', 73.0, 205.0, 12), (b'Charli', 83.0, 105.0, 15)], \n",
       "          dtype=[('name', 'S6'), ('weight', '<f8'), ('height', '<f8'), ('age', '<i8')])"
      ]
     },
     "execution_count": 33,
     "metadata": {},
     "output_type": "execute_result"
    }
   ],
   "source": [
    "person_record_array = np.rec.array([('Delta',73,205,12),('Charlie',83,105,15)],dtype = person_data_def)\n",
    "person_record_array"
   ]
  },
  {
   "cell_type": "code",
   "execution_count": 34,
   "metadata": {},
   "outputs": [
    {
     "data": {
      "text/plain": [
       "12"
      ]
     },
     "execution_count": 34,
     "metadata": {},
     "output_type": "execute_result"
    }
   ],
   "source": [
    "person_record_array[0].age"
   ]
  },
  {
   "cell_type": "code",
   "execution_count": null,
   "metadata": {
    "collapsed": true
   },
   "outputs": [],
   "source": []
  }
 ],
 "metadata": {
  "kernelspec": {
   "display_name": "Python 3",
   "language": "python",
   "name": "python3"
  },
  "language_info": {
   "codemirror_mode": {
    "name": "ipython",
    "version": 3
   },
   "file_extension": ".py",
   "mimetype": "text/x-python",
   "name": "python",
   "nbconvert_exporter": "python",
   "pygments_lexer": "ipython3",
   "version": "3.6.3"
  }
 },
 "nbformat": 4,
 "nbformat_minor": 2
}
