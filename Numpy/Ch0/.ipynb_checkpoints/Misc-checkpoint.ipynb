{
 "cells": [
  {
   "cell_type": "markdown",
   "metadata": {},
   "source": [
    "# Magic Squares"
   ]
  },
  {
   "cell_type": "code",
   "execution_count": 20,
   "metadata": {
    "collapsed": true
   },
   "outputs": [],
   "source": [
    "import numpy as np\n",
    "from numpy.linalg import inv"
   ]
  },
  {
   "cell_type": "code",
   "execution_count": 5,
   "metadata": {},
   "outputs": [
    {
     "data": {
      "text/plain": [
       "array([ 2., -2.])"
      ]
     },
     "execution_count": 5,
     "metadata": {},
     "output_type": "execute_result"
    }
   ],
   "source": [
    "equation = [1,0,-4]\n",
    "# equation is 1*X^2 + 0*X^1 - 4*X^0 = 0\n",
    "# x^2 - 4 = 0\n",
    "# x^2 = 4 is -2 and +2\n",
    "#roots of X^2 = 4 is -2 and +2\n",
    "np.roots(equation)"
   ]
  },
  {
   "cell_type": "markdown",
   "metadata": {},
   "source": [
    "# Adjacent Matrix"
   ]
  },
  {
   "cell_type": "code",
   "execution_count": 10,
   "metadata": {
    "collapsed": true
   },
   "outputs": [],
   "source": [
    "def Adjacent_Matrix(dimensions):\n",
    "    matrix = np.ones((dimensions, dimensions), dtype=np.int64)\n",
    "    for i in range(dimensions):\n",
    "                for j in range(dimensions):\n",
    "                    if ((i + j) > (dimensions - 2)):\n",
    "                        matrix[i,j] = 1\n",
    "                    else:\n",
    "                        matrix[i,j] = -1\n",
    "    return matrix"
   ]
  },
  {
   "cell_type": "code",
   "execution_count": 11,
   "metadata": {
    "collapsed": true
   },
   "outputs": [],
   "source": [
    "am = Adjacent_Matrix(7)"
   ]
  },
  {
   "cell_type": "code",
   "execution_count": 12,
   "metadata": {},
   "outputs": [
    {
     "data": {
      "text/plain": [
       "array([[-1, -1, -1, -1, -1, -1,  1],\n",
       "       [-1, -1, -1, -1, -1,  1,  1],\n",
       "       [-1, -1, -1, -1,  1,  1,  1],\n",
       "       [-1, -1, -1,  1,  1,  1,  1],\n",
       "       [-1, -1,  1,  1,  1,  1,  1],\n",
       "       [-1,  1,  1,  1,  1,  1,  1],\n",
       "       [ 1,  1,  1,  1,  1,  1,  1]], dtype=int64)"
      ]
     },
     "execution_count": 12,
     "metadata": {},
     "output_type": "execute_result"
    }
   ],
   "source": [
    "am"
   ]
  },
  {
   "cell_type": "code",
   "execution_count": 13,
   "metadata": {
    "collapsed": true
   },
   "outputs": [],
   "source": [
    "aam = am.T"
   ]
  },
  {
   "cell_type": "code",
   "execution_count": 14,
   "metadata": {},
   "outputs": [
    {
     "data": {
      "text/plain": [
       "array([[-1, -1, -1, -1, -1, -1,  1],\n",
       "       [-1, -1, -1, -1, -1,  1,  1],\n",
       "       [-1, -1, -1, -1,  1,  1,  1],\n",
       "       [-1, -1, -1,  1,  1,  1,  1],\n",
       "       [-1, -1,  1,  1,  1,  1,  1],\n",
       "       [-1,  1,  1,  1,  1,  1,  1],\n",
       "       [ 1,  1,  1,  1,  1,  1,  1]], dtype=int64)"
      ]
     },
     "execution_count": 14,
     "metadata": {},
     "output_type": "execute_result"
    }
   ],
   "source": [
    "aam"
   ]
  },
  {
   "cell_type": "code",
   "execution_count": 21,
   "metadata": {},
   "outputs": [
    {
     "data": {
      "text/plain": [
       "array([[ 0. ,  0. ,  0. ,  0. ,  0. , -0.5,  0.5],\n",
       "       [ 0. ,  0. ,  0. ,  0. , -0.5,  0.5,  0. ],\n",
       "       [ 0. ,  0. ,  0. , -0.5,  0.5,  0. ,  0. ],\n",
       "       [ 0. ,  0. , -0.5,  0.5,  0. ,  0. ,  0. ],\n",
       "       [ 0. , -0.5,  0.5,  0. ,  0. ,  0. ,  0. ],\n",
       "       [-0.5,  0.5,  0. ,  0. ,  0. ,  0. ,  0. ],\n",
       "       [ 0.5,  0. ,  0. ,  0. ,  0. ,  0. ,  0.5]])"
      ]
     },
     "execution_count": 21,
     "metadata": {},
     "output_type": "execute_result"
    }
   ],
   "source": [
    "inv(aam)"
   ]
  },
  {
   "cell_type": "code",
   "execution_count": null,
   "metadata": {
    "collapsed": true
   },
   "outputs": [],
   "source": []
  }
 ],
 "metadata": {
  "kernelspec": {
   "display_name": "Python 3",
   "language": "python",
   "name": "python3"
  },
  "language_info": {
   "codemirror_mode": {
    "name": "ipython",
    "version": 3
   },
   "file_extension": ".py",
   "mimetype": "text/x-python",
   "name": "python",
   "nbconvert_exporter": "python",
   "pygments_lexer": "ipython3",
   "version": "3.6.3"
  }
 },
 "nbformat": 4,
 "nbformat_minor": 2
}
