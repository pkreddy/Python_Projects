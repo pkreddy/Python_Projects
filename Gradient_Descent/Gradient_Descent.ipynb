{
 "cells": [
  {
   "cell_type": "code",
   "execution_count": 96,
   "metadata": {},
   "outputs": [],
   "source": [
    "import numpy as np\n",
    "import matplotlib.pyplot as plt"
   ]
  },
  {
   "cell_type": "markdown",
   "metadata": {},
   "source": [
    "### Linear Equation with one variable\n",
    "### y = 3 + 4*x "
   ]
  },
  {
   "cell_type": "code",
   "execution_count": 117,
   "metadata": {},
   "outputs": [],
   "source": [
    "#let's use the above equation to generate y values\n",
    "x = np.array([])\n",
    "for _ in range(100):\n",
    "    x = np.append(x,round(np.random.rand() * 5,2))"
   ]
  },
  {
   "cell_type": "code",
   "execution_count": 129,
   "metadata": {},
   "outputs": [],
   "source": [
    "#let's add some bias to y\n",
    "y = 2.5 + 2 *x + (np.random.random((100,)))"
   ]
  },
  {
   "cell_type": "code",
   "execution_count": 130,
   "metadata": {},
   "outputs": [
    {
     "data": {
      "image/png": "[encoded data removed]",
      "text/plain": [
       "<Figure size 432x288 with 1 Axes>"
      ]
     },
     "metadata": {
      "needs_background": "light"
     },
     "output_type": "display_data"
    }
   ],
   "source": [
    "plt.scatter(x,y)\n",
    "plt.show()"
   ]
  },
  {
   "cell_type": "code",
   "execution_count": 101,
   "metadata": {},
   "outputs": [],
   "source": [
    "#Cost Function = 1/2*100 * Sum(h(x) - y)^2\n",
    "#let's create  a hypothesis function\n",
    "#J = h = theta = theta1 = x_1 = np.array([])\n",
    "#h = theta + theta1 * x_1\n",
    "#j = 1/(2*100) * sum(h - y[0])**2"
   ]
  },
  {
   "cell_type": "code",
   "execution_count": 217,
   "metadata": {},
   "outputs": [],
   "source": [
    "#hypothesis functioon\n",
    "def hypothesis_function(theta,theta1,x):\n",
    "    return theta + theta1 * x"
   ]
  },
  {
   "cell_type": "code",
   "execution_count": 218,
   "metadata": {},
   "outputs": [],
   "source": [
    "theta = 1\n",
    "theta1 = 1\n",
    "alpha = 0.00001\n",
    "iterations = 1000000"
   ]
  },
  {
   "cell_type": "code",
   "execution_count": 222,
   "metadata": {},
   "outputs": [
    {
     "name": "stdout",
     "output_type": "stream",
     "text": [
      "2.8118751336252674 2.036594662970518\n",
      "-3.0860716625330102\n",
      "2.8263977137473493 2.0318746828046343\n",
      "-2.7302178430579653\n",
      "2.839245700350511 2.0276989618632415\n",
      "-2.415397400217944\n",
      "2.8506121902143446 2.024004741809897\n",
      "-2.1368787900259143\n",
      "2.8606680141979597 2.0207365009494325\n",
      "-1.8904760611417637\n",
      "2.869564304715111 2.0178451197735034\n",
      "-1.6724859427832048\n",
      "2.877434767155086 2.015287142726681\n",
      "-1.4796321869920597\n",
      "2.8843976893865415 2.013024125098053\n",
      "-1.3090163288005248\n",
      "2.890557719546238 2.0110220552226994\n",
      "-1.1580741241767663\n",
      "2.896007438831741 2.0092508433084837\n",
      "-1.0245370111796008\n",
      "2.900828752935823 2.0076838692065406\n",
      "-0.9063980149117725\n",
      "2.905094123035229 2.006297582327759\n",
      "-0.8018815840433691\n",
      "2.908867654834246 2.0050711476930663\n",
      "-0.7094169054344586\n",
      "2.912206062031344 2.003986132797414\n",
      "-0.6276142958356723\n",
      "2.9151595186887347 2.0030262305812268\n",
      "-0.5552443158947735\n",
      "2.917772413315496 2.002177014346212\n",
      "-0.49121929245025964\n",
      "2.920084015997513 2.0014257209314894\n",
      "-0.43457697155440433\n",
      "2.9221290686011936 2.0007610588916602\n",
      "-0.38446605641828224\n",
      "2.923938306920665 2.0001730387938976\n",
      "-0.3401334129804354\n",
      "2.92553892261677 1.9996528230832338\n",
      "-0.30091275080002244\n",
      "Predicted theta0 is 2.926955 and theta1 is 1.999193\n",
      "Error rate is -0.266215\n"
     ]
    }
   ],
   "source": [
    "p = iterations / 20\n",
    "for k in range(iterations):\n",
    "    if k % p == 0:\n",
    "        print(theta,theta1)\n",
    "        print(sum(hypothesis_function(theta,theta1,x) - y))\n",
    "    temp0 = theta - (alpha * ((1/len(x)) * sum(hypothesis_function(theta, theta1,x) - y)))\n",
    "    temp1 = theta1 - (alpha * ((1/len(x)) * sum((hypothesis_function(theta, theta1,x) - y) * x)))\n",
    "    theta = temp0\n",
    "    theta1 = temp1\n",
    "print(\"Predicted theta0 is %f and theta1 is %f\" %(theta, theta1))\n",
    "print(\"Error rate is %f\" %(sum(hypothesis_function(theta,theta1,x) - y)))"
   ]
  },
  {
   "cell_type": "markdown",
   "metadata": {},
   "source": [
    "<b> Our actual theta values are 2.5 and 2 </b> </br>\n",
    "<b> Our predicted theta values are 2.9 and 1.9 with error rate as low -0.26 </b>"
   ]
  }
 ],
 "metadata": {
  "kernelspec": {
   "display_name": "Python 3",
   "language": "python",
   "name": "python3"
  },
  "language_info": {
   "codemirror_mode": {
    "name": "ipython",
    "version": 3
   },
   "file_extension": ".py",
   "mimetype": "text/x-python",
   "name": "python",
   "nbconvert_exporter": "python",
   "pygments_lexer": "ipython3",
   "version": "3.7.1"
  }
 },
 "nbformat": 4,
 "nbformat_minor": 2
}
