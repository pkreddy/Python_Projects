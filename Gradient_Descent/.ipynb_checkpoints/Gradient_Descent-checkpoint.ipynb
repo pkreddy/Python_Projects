{
 "cells": [
  {
   "cell_type": "code",
   "execution_count": 1,
   "metadata": {},
   "outputs": [],
   "source": [
    "import numpy as np\n",
    "import matplotlib.pyplot as plt\n",
    "np.random.seed(1)"
   ]
  },
  {
   "cell_type": "markdown",
   "metadata": {},
   "source": [
    "### Linear Equation with one variable\n",
    "### y = 3 + 4*x "
   ]
  },
  {
   "cell_type": "code",
   "execution_count": 2,
   "metadata": {},
   "outputs": [],
   "source": [
    "#let's use the above equation to generate y values\n",
    "x = np.array([])\n",
    "for _ in range(100):\n",
    "    x = np.append(x,round(np.random.rand() * 5,2))"
   ]
  },
  {
   "cell_type": "code",
   "execution_count": 3,
   "metadata": {},
   "outputs": [],
   "source": [
    "#let's add some bias to y\n",
    "y = 2.5 + 2 *x + (np.random.random((100,)))"
   ]
  },
  {
   "cell_type": "code",
   "execution_count": 4,
   "metadata": {},
   "outputs": [
    {
     "data": {
      "image/png": "[encoded data removed]",
      "text/plain": [
       "<Figure size 432x288 with 1 Axes>"
      ]
     },
     "metadata": {
      "needs_background": "light"
     },
     "output_type": "display_data"
    }
   ],
   "source": [
    "plt.scatter(x,y)\n",
    "plt.show()"
   ]
  },
  {
   "cell_type": "code",
   "execution_count": 5,
   "metadata": {},
   "outputs": [],
   "source": [
    "#Cost Function = 1/2*100 * Sum(h(x) - y)^2\n",
    "#let's create  a hypothesis function\n",
    "#J = h = theta = theta1 = x_1 = np.array([])\n",
    "#h = theta + theta1 * x_1\n",
    "#j = 1/(2*100) * sum(h - y[0])**2"
   ]
  },
  {
   "cell_type": "code",
   "execution_count": 6,
   "metadata": {},
   "outputs": [],
   "source": [
    "#hypothesis functioon\n",
    "def hypothesis_function(theta,theta1,x):\n",
    "    return theta + theta1 * x"
   ]
  },
  {
   "cell_type": "code",
   "execution_count": 7,
   "metadata": {},
   "outputs": [],
   "source": [
    "theta = 1\n",
    "theta1 = 1\n",
    "alpha = 0.00001\n",
    "iterations = 1000000"
   ]
  },
  {
   "cell_type": "code",
   "execution_count": 8,
   "metadata": {},
   "outputs": [
    {
     "name": "stdout",
     "output_type": "stream",
     "text": [
      "1 1\n",
      "-441.4339049916549\n",
      "1.6298499169428293 2.3999031350398594\n",
      "-38.34244663943819\n",
      "1.7926992231809737 2.3686913160693193\n",
      "-29.640427434516475\n",
      "1.9319549946119428 2.3256767957238362\n",
      "-26.165228009354657\n",
      "2.0550693053490674 2.2874432423705624\n",
      "-23.142638722820088\n",
      "2.1639637922797403 2.2536232133082703\n",
      "-20.46976609043663\n",
      "2.2602814739751365 2.223709209622385\n",
      "-18.10560511638281\n",
      "2.345474920231705 2.197250131125204\n",
      "-16.014493611616132\n",
      "2.4208289275753496 2.173846950676795\n",
      "-14.164895567192671\n",
      "2.48747990452652 2.153146726552823\n",
      "-12.52891732299464\n",
      "2.546433009811074 2.13483728011982\n",
      "-11.081886805437298\n",
      "2.5985773110902857 2.1186424878955843\n",
      "-9.80198144839416\n",
      "2.6446991929279484 2.104318117350186\n",
      "-8.66989908863237\n",
      "2.685494216201119 2.0916481436524883\n",
      "-7.668566871170997\n",
      "2.721577607804987 2.080441491814487\n",
      "-6.782883774826644\n",
      "2.7534935388468846 2.0705291551029554\n",
      "-5.999492874703462\n",
      "2.781723331252598 2.0617616462606065\n",
      "-5.306579907380774\n",
      "2.8066927165487363 2.0540067430992157\n",
      "-4.69369510082684\n",
      "2.8287782562900565 2.0471474944661656\n",
      "-4.151595582094351\n",
      "2.8483130209580954 2.0410804565120877\n",
      "-3.6721059862337113\n",
      "Predicted theta0 is 2.865592 and theta1 is 2.035714\n",
      "Error rate is -3.247995\n"
     ]
    }
   ],
   "source": [
    "p = iterations / 20\n",
    "for k in range(iterations):\n",
    "    if k % p == 0:\n",
    "        print(theta,theta1)\n",
    "        print(sum(hypothesis_function(theta,theta1,x) - y))\n",
    "    temp0 = theta - (alpha * ((1/len(x)) * sum(hypothesis_function(theta, theta1,x) - y)))\n",
    "    temp1 = theta1 - (alpha * ((1/len(x)) * sum((hypothesis_function(theta, theta1,x) - y) * x)))\n",
    "    theta = temp0\n",
    "    theta1 = temp1\n",
    "print(\"Predicted theta0 is %f and theta1 is %f\" %(theta, theta1))\n",
    "print(\"Error rate is %f\" %(sum(hypothesis_function(theta,theta1,x) - y)))"
   ]
  },
  {
   "cell_type": "markdown",
   "metadata": {},
   "source": [
    "<b> Our actual theta values are 2.5 and 2 </b> </br>\n",
    "<b> Our predicted theta values are 2.8 and 2 with error rate as low -3.24 </b>"
   ]
  },
  {
   "cell_type": "code",
   "execution_count": 9,
   "metadata": {},
   "outputs": [
    {
     "data": {
      "image/png": "[encoded data removed]",
      "text/plain": [
       "<Figure size 432x288 with 1 Axes>"
      ]
     },
     "metadata": {
      "needs_background": "light"
     },
     "output_type": "display_data"
    }
   ],
   "source": [
    "plt.scatter(x,y)\n",
    "plt.plot(np.sort(x),2.86 + 2 * np.sort(x), 'r')\n",
    "plt.xlabel('X')\n",
    "plt.ylabel('Y')\n",
    "plt.title('X vs Y')\n",
    "plt.show()"
   ]
  }
 ],
 "metadata": {
  "kernelspec": {
   "display_name": "Python 3",
   "language": "python",
   "name": "python3"
  },
  "language_info": {
   "codemirror_mode": {
    "name": "ipython",
    "version": 3
   },
   "file_extension": ".py",
   "mimetype": "text/x-python",
   "name": "python",
   "nbconvert_exporter": "python",
   "pygments_lexer": "ipython3",
   "version": "3.7.1"
  }
 },
 "nbformat": 4,
 "nbformat_minor": 2
}
